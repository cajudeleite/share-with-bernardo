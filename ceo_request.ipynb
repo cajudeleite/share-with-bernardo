{
 "cells": [
  {
   "cell_type": "markdown",
   "metadata": {},
   "source": [
    "# CEO-Request Challenge"
   ]
  },
  {
   "cell_type": "markdown",
   "metadata": {},
   "source": [
    "## 1. Summary of Problem Statement"
   ]
  },
  {
   "cell_type": "markdown",
   "metadata": {},
   "source": [
    "❓ **How could Olist improve its profit** ❓"
   ]
  },
  {
   "cell_type": "markdown",
   "metadata": {},
   "source": [
    "### P&L Rules"
   ]
  },
  {
   "cell_type": "markdown",
   "metadata": {},
   "source": [
    "#### Revenues  \n",
    "**Sales fees:** Olist takes a **10% cut** on the product price (excl. freight) of each order delivered  \n",
    "**Subscription fees:** Olist charges **80 BRL by month** per seller\n",
    "\n",
    "#### Costs\n",
    "**Reputation costs** *estimated* per order with bad reviews (<= 3 stars)  \n",
    "\n",
    "💡 In the long term, bad customer experience has business implications: low repeat rate, immediate customer support cost, refunds or unfavorable word of mouth communication. We will assume that we have an estimate measure of the monetary cost for each bad review:\n",
    "```python\n",
    "# review_score: cost(BRL)\n",
    "{'1 star': 100\n",
    "'2 stars': 50\n",
    "'3 stars': 40\n",
    "'4 stars': 0\n",
    "'5 stars': 0}\n",
    "```\n",
    "\n",
    "**IT costs:** Olist's **total cumulated IT Costs** scale with the square root of the total number of sellers that has ever join the platform, as well as the square root of the total cumulated number of products that was ever sold.  \n",
    "\n",
    "$IT\\_costs = \\alpha * \\sqrt{n\\_sellers} + \\beta * \\sqrt{n\\_products}$  \n",
    "Olist's data team gave us the following values for these scaling parameters:\n",
    "- $\\alpha = 3157.27$\n",
    "- $\\beta = 978.23$\n",
    "\n",
    "💡 Both number of sellers to manage and sales transaction are costly for IT systems.  \n",
    "💡 Yet square roots reflect scale-effects: IT-system are often more efficient as they grow bigger.  \n",
    "💡 Alpha > Beta means that \"Olist has a lower IT Cost with few sellers selling a lot of products rather than the opposite  \n",
    "- with **1000 sellers** and a total of **100 products** sold, the total IT cost accumulates to 109,624 BRL\n",
    "- with **100 sellers** and a total of **1000 products** sold, the total IT cost accumulates to 62,507 BRL\n",
    "\n",
    "Finally, The IT department also told you that since the birth of the marketplace, cumulated IT costs have amounted to **500,000 BRL**."
   ]
  },
  {
   "cell_type": "markdown",
   "metadata": {},
   "source": [
    "### Key Findings, so far"
   ]
  },
  {
   "cell_type": "markdown",
   "metadata": {},
   "source": [
    "- `wait_time` is the most significant factor behind low review scores  \n",
    "- `wait_time` is made up of seller's `delay_to_carrier` + `carrier_delivery_time`.  \n",
    "- The latter being outside of Olist's direct control, improving it is not a quick-win recommendation\n",
    "- On the contrary, a better selection of `sellers` can positively impact the `delay_to_carrier` and reduce the number of bad `review_scores` on Olist.\n",
    "- Comments of the bad reviews showed that some were linked to the seller or to the product itself."
   ]
  },
  {
   "cell_type": "markdown",
   "metadata": {},
   "source": [
    "💡 We recommend you to start with the the guided seller analysis in part 2 below  \n",
    "💪 But feel free to investigate into other hypothesis instead with part 3"
   ]
  },
  {
   "cell_type": "markdown",
   "metadata": {},
   "source": [
    "## 2. Should Olist remove under-performing sellers from its marketplace? 🕵🏻\n",
    "*(recommended)*"
   ]
  },
  {
   "cell_type": "markdown",
   "metadata": {},
   "source": [
    "To analyze the impact of removing the worse sellers from Olist's marketplace, we will perform a **what-if analysis**\n",
    "\n",
    "👉 **What would have happened if Olist had never accepted these sellers in the first place?**  \n",
    "\n",
    "*(In practice, it's hard to know in advance who is a good seller, but let's start with this approach and iterate later).*"
   ]
  },
  {
   "cell_type": "markdown",
   "metadata": {},
   "source": [
    "### 2.1 Data Preparation"
   ]
  },
  {
   "cell_type": "markdown",
   "metadata": {},
   "source": [
    "Compute, for each `seller_id`, and cumulated since the beginning:\n",
    "- the `revenues` it brings\n",
    "- the `review_costs` associated with all its bad reviews\n",
    "- the resulting `profits` (revenues - costs)\n",
    "\n",
    "👉 Write down a step-by-step strategy to create the DataFrame you need\n",
    "\n",
    "\n",
    "⚠️ Don't start from scratch, update your existing package 😉\n",
    "\n",
    "Starting from the `Seller` class of your `olist` package:\n",
    "\n",
    "Edit the `get_training_data` method so that the DataFrame it returns contains the fields:\n",
    "- `revenues`: sum of subscription and sales fees revenues\n",
    "- `cost_of_reviews`: sum of costs associated with bad reviews\n",
    "- `profits`: `revenues` - `cost_of_reviews`"
   ]
  },
  {
   "cell_type": "markdown",
   "metadata": {},
   "source": [
    "### 2.2 What-if Analysis"
   ]
  },
  {
   "cell_type": "markdown",
   "metadata": {},
   "source": [
    "👉 Time to perform the actual analysis, here are our steps:  \n",
    "\n",
    "1️⃣ Create a method that will help us update the IT Costs after removing sellers along with the products they sold\n",
    "\n",
    "2️⃣ Sort sellers by increasing profits\n",
    "\n",
    "3️⃣ Remove sellers one by one, starting from the one with the lowest profit.\n",
    "- For each number of sellers to remove, compute the financial impact on Olist global profits.\n",
    "\n",
    "4️⃣ Find an optimal number of sellers to remove that maximizes either Olist's profit margin or profit."
   ]
  },
  {
   "cell_type": "markdown",
   "metadata": {},
   "source": [
    "1. Revenues\n",
    "\n",
    "    1.1. Pegar todas as orders de um seller\n",
    "    \n",
    "    1.2. Add todos of prices e pegar 10%\n",
    "    \n",
    "    1.3. Numero de meses no Olist * 80\n",
    "    \n",
    "    1.4. Somar os dois para obter o revenue do seller\n",
    "    \n",
    "    \n",
    "2. Costs\n",
    "\n",
    "    2.1. Atualizar get_review_score para ter share_of_n_star\n",
    "    \n",
    "    2.2. Multiplicar cada share_of_n_star pelo custo do mesmo\n",
    "    \n",
    "    2.3. Soma todos os custos de review por seller\n",
    "    \n",
    "  \n",
    "3. Profit\n",
    "\n",
    "    3.1. Calcular o profit de cada seller (revenue - cost of review)\n",
    "    \n",
    "    3.2. Sort os sellers por melhor para pior\n",
    "    \n",
    "    3.3. Somar o profits de todos os sellers\n",
    "    \n",
    "    3.4. Calcular o custo de IT\n",
    "    \n",
    "    3.5. Função que remove um por um os piores vendedores e os produtos dele e retorna o profit total dos que restam\n",
    "    \n",
    "    3.6. Plot da evolução do profit conforme removemos os piores sellers\n",
    "    \n",
    "    3.7. Observa o numero optimal de vendedores aka o cume da curva\n",
    "    "
   ]
  },
  {
   "cell_type": "code",
   "execution_count": 1,
   "metadata": {},
   "outputs": [],
   "source": [
    "%load_ext autoreload\n",
    "%autoreload 2"
   ]
  },
  {
   "cell_type": "code",
   "execution_count": 2,
   "metadata": {},
   "outputs": [],
   "source": [
    "import numpy as np"
   ]
  },
  {
   "cell_type": "code",
   "execution_count": 3,
   "metadata": {},
   "outputs": [],
   "source": [
    "from olist.seller import Seller\n",
    "from olist.data import Olist\n",
    "\n",
    "sellers = Seller().get_training_data().copy()\n",
    "orders = Olist().get_data()[\"order_items\"].copy()\n",
    "products = Olist().get_data()[\"products\"].copy()"
   ]
  },
  {
   "cell_type": "code",
   "execution_count": 10,
   "metadata": {},
   "outputs": [],
   "source": [
    "def compute_profit(sellers, products):\n",
    "    sellers[\"sales_fee\"] = [sales * 0.1 for sales in sellers[\"sales\"]]\n",
    "    sellers[\"subscription_fee\"] = [months * 80 for months in sellers[\"months_on_olist\"]]\n",
    "    sellers[\"revenue\"] = sellers[\"sales_fee\"] + sellers[\"subscription_fee\"]\n",
    "    sellers[\"profit\"] = sellers[\"revenue\"] - sellers[\"reviews_cost\"]\n",
    "    sellers = sellers.sort_values(by=\"profit\", ascending=False)\n",
    "    \n",
    "    print(sellers.head(5))\n",
    "\n",
    "    total_profit = sellers[\"profit\"].sum()\n",
    "\n",
    "    alpha = 3157.27\n",
    "    beta = 978.23\n",
    "    number_of_sellers = sellers[\"seller_id\"].count()\n",
    "    number_of_products = products[\"product_id\"].count() # sellers[\"quantity\"].sum()\n",
    "\n",
    "    it_costs = alpha * np.sqrt(number_of_sellers) + beta * np.sqrt(number_of_products)\n",
    "    \n",
    "    return {\"profit\": total_profit, \"it_costs\": it_costs, \"sellers_df\": sellers}"
   ]
  },
  {
   "cell_type": "code",
   "execution_count": 5,
   "metadata": {},
   "outputs": [],
   "source": [
    "def remove_seller_products(seller_id, orders, products):\n",
    "    seller_orders = orders[orders[\"seller_id\"] == seller_id]\n",
    "    seller_products = products[~products[\"product_id\"].isin(seller_orders[\"product_id\"])]\n",
    "    #return seller_products\n",
    "    \n",
    "def remove_seller(seller_id, orders, products, sellers):\n",
    "    remove_seller_products(seller_id, orders, products)\n",
    "    #return sellers[~sellers[\"seller_id\"] == seller_id]"
   ]
  },
  {
   "cell_type": "code",
   "execution_count": 12,
   "metadata": {},
   "outputs": [
    {
     "name": "stdout",
     "output_type": "stream",
     "text": [
      "                          seller_id        seller_city seller_state  \\\n",
      "0  3442f8959a84dea7ee197c632cb2df15           campinas           SP   \n",
      "1  d1b65fc7debc3361ea86b5f14c68d2e2         mogi guacu           SP   \n",
      "2  ce3ad9de960102d0677a81f5d0bb7b2d     rio de janeiro           RJ   \n",
      "3  c0f3eea2e14555b6faeea3dd58c1b1c3          sao paulo           SP   \n",
      "4  51a04a8a6bdcb23deccc82b0b80742cf  braganca paulista           SP   \n",
      "\n",
      "   delay_to_carrier  wait_time     date_first_sale      date_last_sale  \\\n",
      "0          0.000000  13.018588 2017-05-05 16:25:11 2017-08-30 12:50:19   \n",
      "1          0.000000   9.065716 2017-03-29 02:10:34 2018-06-06 20:15:21   \n",
      "2          0.000000   4.042292 2018-07-30 12:44:49 2018-07-30 12:44:49   \n",
      "3          0.000000   5.667187 2018-08-03 00:44:08 2018-08-03 00:44:08   \n",
      "4          3.353727  35.314861 2017-11-14 12:15:25 2017-11-14 12:15:25   \n",
      "\n",
      "   months_on_olist  n_orders  quantity  quantity_per_order     sales  \\\n",
      "0              4.0         3         3               1.000    218.70   \n",
      "1             14.0        40        41               1.025  11703.07   \n",
      "2              0.0         1         1               1.000    158.00   \n",
      "3              0.0         1         1               1.000     79.99   \n",
      "4              0.0         1         1               1.000    167.99   \n",
      "\n",
      "   share_of_one_stars  share_of_five_stars  review_score  reviews_cost  \\\n",
      "0            0.333333             0.333333          3.00           140   \n",
      "1            0.050000             0.725000          4.55           240   \n",
      "2            0.000000             1.000000          5.00             0   \n",
      "3            0.000000             1.000000          5.00             0   \n",
      "4            1.000000             0.000000          1.00           100   \n",
      "\n",
      "   sales_fee  subscription_fee   revenue    profit  \n",
      "0     21.870             320.0   341.870   201.870  \n",
      "1   1170.307            1120.0  2290.307  2050.307  \n",
      "2     15.800               0.0    15.800    15.800  \n",
      "3      7.999               0.0     7.999     7.999  \n",
      "4     16.799               0.0    16.799   -83.201  \n",
      "                             seller_id       seller_city seller_state  \\\n",
      "868   53243585a1d6dc2643021fd1853d8905  lauro de freitas           BA   \n",
      "67    7e93a43ef30c4f03f38b393420bc753a           barueri           SP   \n",
      "534   fa1c13f2614d7b5c4749cbc52fecda94            sumare           SP   \n",
      "2151  edb1ef5e36e0c8cd84eb3c9b003e486d       teresopolis           RJ   \n",
      "2830  46dc3b2cc0980fb8ec44634e21d2718e    rio de janeiro           RJ   \n",
      "\n",
      "      delay_to_carrier  wait_time     date_first_sale      date_last_sale  \\\n",
      "868                0.0  13.374429 2017-08-28 18:44:58 2018-08-21 16:35:26   \n",
      "67                 0.0  11.335141 2016-10-08 03:19:09 2018-07-14 21:25:19   \n",
      "534                0.0  13.341871 2017-01-07 20:55:10 2018-08-29 10:04:16   \n",
      "2151               0.0  11.709806 2017-09-30 09:49:22 2018-08-20 19:30:10   \n",
      "2830               0.0  11.800424 2016-10-06 15:44:00 2018-08-17 22:49:38   \n",
      "\n",
      "      months_on_olist  n_orders  quantity  quantity_per_order      sales  \\\n",
      "868              12.0       358       410            1.145251  222776.05   \n",
      "67               21.0       336       340            1.011905  176431.87   \n",
      "534              20.0       585       586            1.001709  194042.03   \n",
      "2151             11.0       166       175            1.054217   79284.55   \n",
      "2830             22.0       521       542            1.040307  128111.19   \n",
      "\n",
      "      share_of_one_stars  share_of_five_stars  review_score  reviews_cost  \\\n",
      "868             0.095506             0.561798      4.132022          5170   \n",
      "67              0.101493             0.629851      4.214925          4700   \n",
      "534             0.086059             0.676420      4.339071          6510   \n",
      "2151            0.066265             0.692771      4.421687          1520   \n",
      "2830            0.112621             0.629126      4.194175          7500   \n",
      "\n",
      "      sales_fee  subscription_fee    revenue     profit  \n",
      "868   22277.605             960.0  23237.605  18067.605  \n",
      "67    17643.187            1680.0  19323.187  14623.187  \n",
      "534   19404.203            1600.0  21004.203  14494.203  \n",
      "2151   7928.455             880.0   8808.455   7288.455  \n",
      "2830  12811.119            1760.0  14571.119   7071.119  \n",
      "                             seller_id       seller_city seller_state  \\\n",
      "868   53243585a1d6dc2643021fd1853d8905  lauro de freitas           BA   \n",
      "67    7e93a43ef30c4f03f38b393420bc753a           barueri           SP   \n",
      "534   fa1c13f2614d7b5c4749cbc52fecda94            sumare           SP   \n",
      "2151  edb1ef5e36e0c8cd84eb3c9b003e486d       teresopolis           RJ   \n",
      "2830  46dc3b2cc0980fb8ec44634e21d2718e    rio de janeiro           RJ   \n",
      "\n",
      "      delay_to_carrier  wait_time     date_first_sale      date_last_sale  \\\n",
      "868                0.0  13.374429 2017-08-28 18:44:58 2018-08-21 16:35:26   \n",
      "67                 0.0  11.335141 2016-10-08 03:19:09 2018-07-14 21:25:19   \n",
      "534                0.0  13.341871 2017-01-07 20:55:10 2018-08-29 10:04:16   \n",
      "2151               0.0  11.709806 2017-09-30 09:49:22 2018-08-20 19:30:10   \n",
      "2830               0.0  11.800424 2016-10-06 15:44:00 2018-08-17 22:49:38   \n",
      "\n",
      "      months_on_olist  n_orders  quantity  quantity_per_order      sales  \\\n",
      "868              12.0       358       410            1.145251  222776.05   \n",
      "67               21.0       336       340            1.011905  176431.87   \n",
      "534              20.0       585       586            1.001709  194042.03   \n",
      "2151             11.0       166       175            1.054217   79284.55   \n",
      "2830             22.0       521       542            1.040307  128111.19   \n",
      "\n",
      "      share_of_one_stars  share_of_five_stars  review_score  reviews_cost  \\\n",
      "868             0.095506             0.561798      4.132022          5170   \n",
      "67              0.101493             0.629851      4.214925          4700   \n",
      "534             0.086059             0.676420      4.339071          6510   \n",
      "2151            0.066265             0.692771      4.421687          1520   \n",
      "2830            0.112621             0.629126      4.194175          7500   \n",
      "\n",
      "      sales_fee  subscription_fee    revenue     profit  \n",
      "868   22277.605             960.0  23237.605  18067.605  \n",
      "67    17643.187            1680.0  19323.187  14623.187  \n",
      "534   19404.203            1600.0  21004.203  14494.203  \n",
      "2151   7928.455             880.0   8808.455   7288.455  \n",
      "2830  12811.119            1760.0  14571.119   7071.119  \n"
     ]
    }
   ],
   "source": [
    "computation = compute_profit(sellers, products)\n",
    "sellers = computation[\"sellers_df\"]\n",
    "print(sellers.head(5))"
   ]
  },
  {
   "cell_type": "markdown",
   "metadata": {},
   "source": [
    "## 3. Investigate other Approaches 🕵️\n",
    "*(optional)*"
   ]
  },
  {
   "cell_type": "markdown",
   "metadata": {},
   "source": [
    "- Should Olist remove the worst performing products / categories from its marketplace entirely?\n",
    "- Should Olist remove only consistently underperforming sellers, after it has a honeymoon period of few months?\n",
    "- Should Olist restrict seller/customer pairs between certain states to avoid delays?\n",
    "- Should Olist acquire new sellers, with some cost assumptions to be suggested?\n",
    "- ...\n"
   ]
  },
  {
   "cell_type": "markdown",
   "metadata": {},
   "source": [
    "## Your turn!"
   ]
  },
  {
   "cell_type": "markdown",
   "metadata": {},
   "source": [
    "🧺 Keep this notebook tidy! \n",
    "\n",
    "🗣 📊 You will present your insights to your favorite TA at the end of this `Communicate` unit 💪"
   ]
  }
 ],
 "metadata": {
  "kernelspec": {
   "display_name": "Python 3 (ipykernel)",
   "language": "python",
   "name": "python3"
  },
  "language_info": {
   "codemirror_mode": {
    "name": "ipython",
    "version": 3
   },
   "file_extension": ".py",
   "mimetype": "text/x-python",
   "name": "python",
   "nbconvert_exporter": "python",
   "pygments_lexer": "ipython3",
   "version": "3.10.6"
  },
  "toc": {
   "base_numbering": 1,
   "nav_menu": {},
   "number_sections": true,
   "sideBar": true,
   "skip_h1_title": false,
   "title_cell": "Table of Contents",
   "title_sidebar": "Contents",
   "toc_cell": false,
   "toc_position": {},
   "toc_section_display": true,
   "toc_window_display": false
  }
 },
 "nbformat": 4,
 "nbformat_minor": 4
}
